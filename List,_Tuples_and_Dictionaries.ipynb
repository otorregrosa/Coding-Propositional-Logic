{
  "nbformat": 4,
  "nbformat_minor": 0,
  "metadata": {
    "colab": {
      "provenance": [],
      "authorship_tag": "ABX9TyOTJfSZGgXMsNYheAnAMeWL",
      "include_colab_link": true
    },
    "kernelspec": {
      "name": "python3",
      "display_name": "Python 3"
    },
    "language_info": {
      "name": "python"
    }
  },
  "cells": [
    {
      "cell_type": "markdown",
      "metadata": {
        "id": "view-in-github",
        "colab_type": "text"
      },
      "source": [
        "<a href=\"https://colab.research.google.com/github/otorregrosa/Coding-Propositional-Logic/blob/main/List%2C_Tuples_and_Dictionaries.ipynb\" target=\"_parent\"><img src=\"https://colab.research.google.com/assets/colab-badge.svg\" alt=\"Open In Colab\"/></a>"
      ]
    },
    {
      "cell_type": "code",
      "execution_count": 1,
      "metadata": {
        "colab": {
          "base_uri": "https://localhost:8080/"
        },
        "id": "OKzr5JUvH38Y",
        "outputId": "10ccb020-93cb-4e00-85d9-85149973ec65"
      },
      "outputs": [
        {
          "output_type": "stream",
          "name": "stdout",
          "text": [
            "0\n",
            "1\n",
            "2\n",
            "3\n",
            "4\n",
            "5\n",
            "2\n",
            "3\n",
            "4\n",
            "5\n"
          ]
        }
      ],
      "source": [
        "for x in range(6):print(x)\n",
        "\n",
        "for x in range(2 ,6): print(x)"
      ]
    },
    {
      "cell_type": "markdown",
      "source": [
        "Functions"
      ],
      "metadata": {
        "id": "MQu6QWOnKwRW"
      }
    },
    {
      "cell_type": "code",
      "source": [
        "class Shapes:\n",
        "  def __init__(self, length, width):\n",
        "    self.length = length\n",
        "    self.width = width\n",
        "  def Area(self):\n",
        "    return self.length * self.width\n",
        "rectangle = Shapes(10,5)\n",
        "rectangle.Area()"
      ],
      "metadata": {
        "colab": {
          "base_uri": "https://localhost:8080/"
        },
        "id": "TV5oO33wKycj",
        "outputId": "41fcbb74-d1d2-464d-885b-f0386e1ee5a8"
      },
      "execution_count": 12,
      "outputs": [
        {
          "output_type": "execute_result",
          "data": {
            "text/plain": [
              "50"
            ]
          },
          "metadata": {},
          "execution_count": 12
        }
      ]
    },
    {
      "cell_type": "code",
      "source": [
        "class Shapes:\n",
        "  def __init__(self, side):\n",
        "    self.side = side\n",
        "  def Area(self):\n",
        "    return self.side**2\n",
        "square = Shapes(5)\n",
        "square.Area()"
      ],
      "metadata": {
        "colab": {
          "base_uri": "https://localhost:8080/"
        },
        "id": "Gl85aTgjOk5r",
        "outputId": "33348389-d9e8-4063-f331-52cb10409ad1"
      },
      "execution_count": 13,
      "outputs": [
        {
          "output_type": "execute_result",
          "data": {
            "text/plain": [
              "25"
            ]
          },
          "metadata": {},
          "execution_count": 13
        }
      ]
    },
    {
      "cell_type": "code",
      "source": [
        "class Person:\n",
        "  def __init__(self, name, age):\n",
        "    self.name = name\n",
        "    self.age = age\n",
        "  def name_age(self):\n",
        "    return self.name + self.age\n",
        "Student = Person(\"Othello Torregrosa\", \" 22\")\n",
        "Student.name_age()"
      ],
      "metadata": {
        "colab": {
          "base_uri": "https://localhost:8080/",
          "height": 35
        },
        "id": "N_cZK04xPhzz",
        "outputId": "f34fd662-21a7-4675-de1f-95d4e4bdd734"
      },
      "execution_count": 22,
      "outputs": [
        {
          "output_type": "execute_result",
          "data": {
            "text/plain": [
              "'Othello Torregrosa 22'"
            ],
            "application/vnd.google.colaboratory.intrinsic+json": {
              "type": "string"
            }
          },
          "metadata": {},
          "execution_count": 22
        }
      ]
    },
    {
      "cell_type": "markdown",
      "source": [
        "List"
      ],
      "metadata": {
        "id": "YAUp8flXT4Y5"
      }
    },
    {
      "cell_type": "code",
      "source": [
        "pi=3.14159\n",
        "varlist = ['abc',1,'def',2]\n",
        "print(varlist[0])\n",
        "varlist.append('ghi')\n",
        "varlist.remove(2)\n",
        "print(varlist)"
      ],
      "metadata": {
        "colab": {
          "base_uri": "https://localhost:8080/"
        },
        "id": "itkxqGqWT29T",
        "outputId": "9e14d133-fb4b-428e-f925-1bec69cfb484"
      },
      "execution_count": 27,
      "outputs": [
        {
          "output_type": "stream",
          "name": "stdout",
          "text": [
            "abc\n",
            "['abc', 1, 'def', 'ghi']\n"
          ]
        }
      ]
    },
    {
      "cell_type": "markdown",
      "source": [
        "Dictionaries"
      ],
      "metadata": {
        "id": "6_MMapHGWLfZ"
      }
    },
    {
      "cell_type": "code",
      "source": [
        "students = {\n",
        "    1:\"ana\",\n",
        "    2:\"bana\",\n",
        "    3:\"cana\",\n",
        "    4:\"dana\",\n",
        "}\n",
        "print(students)"
      ],
      "metadata": {
        "colab": {
          "base_uri": "https://localhost:8080/"
        },
        "id": "t-WWyiANWMh6",
        "outputId": "008e0842-edff-4097-df28-7d77b4eafe2a"
      },
      "execution_count": 32,
      "outputs": [
        {
          "output_type": "stream",
          "name": "stdout",
          "text": [
            "{1: 'ana', 2: 'bana', 3: 'cana', 4: 'dana'}\n"
          ]
        }
      ]
    }
  ]
}
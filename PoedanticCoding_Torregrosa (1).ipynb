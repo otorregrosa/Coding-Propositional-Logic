{
 "cells": [
  {
   "cell_type": "markdown",
   "metadata": {},
   "source": [
    "Pedantic Coding"
   ]
  },
  {
   "cell_type": "markdown",
   "metadata": {},
   "source": [
    "# Discrete Math"
   ]
  },
  {
   "cell_type": "markdown",
   "metadata": {},
   "source": [
    "### Given English Statement: "
   ]
  },
  {
   "cell_type": "markdown",
   "metadata": {},
   "source": [
    "#### Add additional fries and drinks to the order if the customer would buy a Cheese Burger Deluxe and add a Sundae instead if they also do. Always remember to print the receipt for every transaction."
   ]
  },
  {
   "cell_type": "markdown",
   "metadata": {},
   "source": [
    "p: The customer buys a Cheese Burger Deluxe"
   ]
  },
  {
   "cell_type": "markdown",
   "metadata": {},
   "source": [
    "q: Add additional fires and drinks"
   ]
  },
  {
   "cell_type": "markdown",
   "metadata": {},
   "source": [
    "r: Add sundae"
   ]
  },
  {
   "cell_type": "markdown",
   "metadata": {},
   "source": [
    "WFF:  $(p\\rightarrow q)  \\land (\\neg p \\rightarrow r)$"
   ]
  },
  {
   "cell_type": "markdown",
   "metadata": {},
   "source": [
    "<img src=\"img/if.jpeg\" width=150 align=\"center\"/>"
   ]
  },
  {
   "cell_type": "code",
   "execution_count": 7,
   "metadata": {},
   "outputs": [
    {
     "name": "stdout",
     "output_type": "stream",
     "text": [
      " Cheese burger deluxe with additional fries and drinks\n",
      " Receipt\n"
     ]
    }
   ],
   "source": [
    "buy_cbd = True\n",
    "if(buy_cbd):\n",
    "    print(\" Cheese burger deluxe with additional fries and drinks\")\n",
    "    print(\" Receipt\")\n",
    "else:\n",
    "    print(\"Cheese burger deluxe with sundae\")\n",
    "    print(\" Receipt\")"
   ]
  },
  {
   "cell_type": "markdown",
   "metadata": {},
   "source": [
    "Code Explanation:\n",
    "     If it is true, the customer will buy a cheese burger deluxe and it will automatically add the additional fries and drinks then print a receipt. Otherwise, if it is false, the customer will buy a cheese burger deluxe and will only add a sundae as the substitute for the fries and drinks then print a receipt."
   ]
  },
  {
   "cell_type": "markdown",
   "metadata": {},
   "source": [
    "### Given Pseudocode"
   ]
  },
  {
   "cell_type": "markdown",
   "metadata": {},
   "source": [
    "<center>\n",
    "def transfer_to_resource(reservoir, pool):\n",
    "    if pool <= 10 and reservoir > 20\n",
    "    pool = reservoir\n",
    "    return pool\n",
    "</center>"
   ]
  },
  {
   "cell_type": "markdown",
   "metadata": {},
   "source": [
    "### Convert to English Statement"
   ]
  },
  {
   "cell_type": "markdown",
   "metadata": {},
   "source": [
    "#### If pool is less than or equal to 10 and reservoir is greater than 20, make pool and reservoir equal then print pool"
   ]
  },
  {
   "cell_type": "markdown",
   "metadata": {},
   "source": [
    "p: Pool is <= 10"
   ]
  },
  {
   "cell_type": "markdown",
   "metadata": {},
   "source": [
    "q: Reservoir > 20"
   ]
  },
  {
   "cell_type": "markdown",
   "metadata": {},
   "source": [
    "WFF: <h3>$$p\\land q$$</h3>"
   ]
  },
  {
   "cell_type": "markdown",
   "metadata": {},
   "source": [
    "<img src=\"img/an.jpeg\" width=200 align=\"center\"/>"
   ]
  }
 ],
 "metadata": {
  "celltoolbar": "Edit Metadata",
  "kernelspec": {
   "display_name": "Python 3",
   "language": "python",
   "name": "python3"
  },
  "language_info": {
   "codemirror_mode": {
    "name": "ipython",
    "version": 3
   },
   "file_extension": ".py",
   "mimetype": "text/x-python",
   "name": "python",
   "nbconvert_exporter": "python",
   "pygments_lexer": "ipython3",
   "version": "3.8.3"
  }
 },
 "nbformat": 4,
 "nbformat_minor": 4
}

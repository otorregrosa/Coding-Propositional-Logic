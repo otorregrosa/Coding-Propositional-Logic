{
  "nbformat": 4,
  "nbformat_minor": 0,
  "metadata": {
    "colab": {
      "name": "Lab6",
      "provenance": [],
      "authorship_tag": "ABX9TyOUbMDCppZYs6bXPPzlxT6z",
      "include_colab_link": true
    },
    "kernelspec": {
      "name": "python3",
      "display_name": "Python 3"
    },
    "language_info": {
      "name": "python"
    }
  },
  "cells": [
    {
      "cell_type": "markdown",
      "metadata": {
        "id": "view-in-github",
        "colab_type": "text"
      },
      "source": [
        "<a href=\"https://colab.research.google.com/github/otorregrosa/Coding-Propositional-Logic/blob/main/Lab6.ipynb\" target=\"_parent\"><img src=\"https://colab.research.google.com/assets/colab-badge.svg\" alt=\"Open In Colab\"/></a>"
      ]
    },
    {
      "cell_type": "markdown",
      "metadata": {
        "id": "5MzP_bSiaD8I"
      },
      "source": [
        "Task 1\n",
        "\n"
      ]
    },
    {
      "cell_type": "code",
      "metadata": {
        "id": "-GRT9srzBTMl"
      },
      "source": [
        "import numpy as np\n",
        "import matplotlib.pyplot as plt\n",
        "%matplotlib inline"
      ],
      "execution_count": 5,
      "outputs": []
    },
    {
      "cell_type": "code",
      "metadata": {
        "id": "IvVDW30GBY44"
      },
      "source": [
        "def mat_desc(x):\n",
        "    print(x)\n",
        "    if x.size > 0:\n",
        "        is_square = True if x.shape[0] == x.shape[1] else False \n",
        "        print(\"Shape, Size: \", x.shape)\n",
        "        print(\"Rank: \", x.ndim)\n",
        "        print(\"Is a Square Matrix: \", is_square)\n",
        "        is_zeros = not np.any(x)\n",
        "        print(\"Is a Zero Matrix: \", is_zeros)\n",
        "        is_ones = np.all((x == 1))\n",
        "        print(\"Is an Ones Matrix: \", is_ones)\n",
        "      \n",
        "        rows = len(x);  \n",
        "        cols = len(x[0]);  \n",
        "        is_identity=True\n",
        "       \n",
        "        for i in range(0, rows):  \n",
        "                for j in range(0, cols):  \n",
        "                    if(i == j and x[i][j] != 1):  \n",
        "                        is_identity = False\n",
        "                    if(i != j and x[i][j] != 0):  \n",
        "                        is_identity = False\n",
        "        if is_identity:\n",
        "            print(\"Is an Identity Matrix\")\n",
        "        else:\n",
        "            print(\"Is not an Identity Matrix\")\n",
        "        print(\"Matrix is not Null\")\n",
        "    else:   \n",
        "        print(\"Shape/Size: n/a\")\n",
        "        print(\"Rank: n/a\")\n",
        "        print(\"Is a Square Matrix: n/a\")\n",
        "        print(\"Is a Zero Matrix: n/a\")\n",
        "        print(\"Is an Ones Matrix: n/a\")\n",
        "        print(\"Is an Identity Matrix: n/a\")\n",
        "        print('Matrix is Null')"
      ],
      "execution_count": 21,
      "outputs": []
    },
    {
      "cell_type": "code",
      "metadata": {
        "id": "wBVOJvpBYh-1"
      },
      "source": [
        "A = np.array([[1,2,3],[1,3,5],[2,4,6]])\n",
        "B = np.array([[7,2,8],[9,1,9],[2,0,0]])\n",
        "C = np.array([[3,9,5],[7,7,7],[4,8,2]])\n",
        "D = np.array([[1,0,0],\n",
        "              [0,1,0],\n",
        "              [0,0,1]])\n",
        "E = np.array([])"
      ],
      "execution_count": 30,
      "outputs": []
    },
    {
      "cell_type": "code",
      "metadata": {
        "colab": {
          "base_uri": "https://localhost:8080/"
        },
        "id": "vnn57AS3YjJF",
        "outputId": "ffa7050c-8e9a-4b0e-fbe0-08121284252d"
      },
      "source": [
        "mat_desc(A)"
      ],
      "execution_count": 31,
      "outputs": [
        {
          "output_type": "stream",
          "text": [
            "[[1 2 3]\n",
            " [1 3 5]\n",
            " [7 2 8]]\n",
            "Shape, Size:  (3, 3)\n",
            "Rank:  2\n",
            "Is a Square Matrix:  True\n",
            "Is a Zero Matrix:  False\n",
            "Is an Ones Matrix:  False\n",
            "Is not an Identity Matrix\n",
            "Matrix is not Null\n"
          ],
          "name": "stdout"
        }
      ]
    },
    {
      "cell_type": "code",
      "metadata": {
        "colab": {
          "base_uri": "https://localhost:8080/"
        },
        "id": "NO4N3vU1Yq8s",
        "outputId": "81908a1f-ac09-4e14-ab5e-c3a57daaf0f6"
      },
      "source": [
        "mat_desc(B)"
      ],
      "execution_count": 32,
      "outputs": [
        {
          "output_type": "stream",
          "text": [
            "[[0 0 0]\n",
            " [0 0 0]\n",
            " [0 0 0]]\n",
            "Shape, Size:  (3, 3)\n",
            "Rank:  2\n",
            "Is a Square Matrix:  True\n",
            "Is a Zero Matrix:  True\n",
            "Is an Ones Matrix:  False\n",
            "Is not an Identity Matrix\n",
            "Matrix is not Null\n"
          ],
          "name": "stdout"
        }
      ]
    },
    {
      "cell_type": "code",
      "metadata": {
        "colab": {
          "base_uri": "https://localhost:8080/"
        },
        "id": "vh5hNBZ1YwZr",
        "outputId": "db790f56-736b-4d2b-f596-e3fbae73f84d"
      },
      "source": [
        "mat_desc(C)"
      ],
      "execution_count": 33,
      "outputs": [
        {
          "output_type": "stream",
          "text": [
            "[[1 1 1]\n",
            " [1 1 1]\n",
            " [1 1 1]]\n",
            "Shape, Size:  (3, 3)\n",
            "Rank:  2\n",
            "Is a Square Matrix:  True\n",
            "Is a Zero Matrix:  False\n",
            "Is an Ones Matrix:  True\n",
            "Is not an Identity Matrix\n",
            "Matrix is not Null\n"
          ],
          "name": "stdout"
        }
      ]
    },
    {
      "cell_type": "code",
      "metadata": {
        "colab": {
          "base_uri": "https://localhost:8080/"
        },
        "id": "1DW8pZXdYyJG",
        "outputId": "7ccef614-781d-4832-9bd9-1370d68b23ca"
      },
      "source": [
        "mat_desc(D)"
      ],
      "execution_count": 34,
      "outputs": [
        {
          "output_type": "stream",
          "text": [
            "[[1 0 0]\n",
            " [0 1 0]\n",
            " [0 0 1]]\n",
            "Shape, Size:  (3, 3)\n",
            "Rank:  2\n",
            "Is a Square Matrix:  True\n",
            "Is a Zero Matrix:  False\n",
            "Is an Ones Matrix:  False\n",
            "Is an Identity Matrix\n",
            "Matrix is not Null\n"
          ],
          "name": "stdout"
        }
      ]
    },
    {
      "cell_type": "code",
      "metadata": {
        "colab": {
          "base_uri": "https://localhost:8080/"
        },
        "id": "tGTMhf-kYzgb",
        "outputId": "2ab61102-0bcb-4bd9-b29b-f432161f93b2"
      },
      "source": [
        "mat_desc(E)"
      ],
      "execution_count": 35,
      "outputs": [
        {
          "output_type": "stream",
          "text": [
            "[]\n",
            "Shape/Size: n/a\n",
            "Rank: n/a\n",
            "Is a Square Matrix: n/a\n",
            "Is a Zero Matrix: n/a\n",
            "Is an Ones Matrix: n/a\n",
            "Is an Identity Matrix: n/a\n",
            "Matrix is Null\n"
          ],
          "name": "stdout"
        }
      ]
    },
    {
      "cell_type": "markdown",
      "metadata": {
        "id": "gcIj1scyaKrD"
      },
      "source": [
        "Task 2"
      ]
    },
    {
      "cell_type": "code",
      "metadata": {
        "id": "-LOqgDaPaM0i"
      },
      "source": [
        "def mat_operations(x,y):\n",
        "    print(\"Array 1: \\n\", x)\n",
        "    print(\"\\nArray 2: \\n\", y)\n",
        "    print(\"\\nIs Scalar(Array1): \",isinstance(x, (int, float, complex, bytes)))\n",
        "    print(\"\\nIs Scalar(Array2): \",isinstance(y, (int, float, complex, bytes)))\n",
        "    check_scalar1 = isinstance(x, (int, float, complex, bytes))\n",
        "    check_scalar2 = isinstance(y, (int, float, complex, bytes))\n",
        "    check_array1 = isinstance(x, np.ndarray)\n",
        "    check_array2 = isinstance(y, np.ndarray)\n",
        "    if check_scalar1 == True or check_scalar2 == True or check_array1 == True and check_array2 == True and x.shape == y.shape:\n",
        "        print(\"\\nSum of the two arrays: \")\n",
        "        print(x+y)\n",
        "        print(\"\\nDifference of two arrays: \")\n",
        "        print(x-y)\n",
        "        print(\"\\nProduct of the two arrays: \")\n",
        "        print(x*y)\n",
        "        print(\"\\nQuotient of the two arrays: \")\n",
        "        print(x/y)\n",
        "    elif check_array1 == True and check_array2 == True and x.shape != y.shape:\n",
        "        print(\"\\nCan't perform certain operations, Shapes of array should be equal.\")"
      ],
      "execution_count": 15,
      "outputs": []
    },
    {
      "cell_type": "code",
      "metadata": {
        "id": "QcNhL6BfdYOi"
      },
      "source": [
        "F = 2\n",
        "G = np.array([[1,1,1],[9,1,9],[7,2,8]])\n",
        "H = np.array([[1,5,1],[1,3,3],[1,5,5]])\n",
        "I = np.array([[9,8,7],[7,5,6],[4,3,2],[2,4,6]])\n",
        "J = np.array([[5,6,6],[3,2,1],[4,6,8]])"
      ],
      "execution_count": 36,
      "outputs": []
    },
    {
      "cell_type": "code",
      "metadata": {
        "colab": {
          "base_uri": "https://localhost:8080/"
        },
        "id": "WvLjXZKGddtQ",
        "outputId": "ffe582bd-2dc2-4bb7-8f9d-f1a76c50d250"
      },
      "source": [
        "mat_operations(F,G)"
      ],
      "execution_count": 41,
      "outputs": [
        {
          "output_type": "stream",
          "text": [
            "Array 1: \n",
            " 2\n",
            "\n",
            "Array 2: \n",
            " [[1 1 1]\n",
            " [9 1 9]\n",
            " [7 2 8]]\n",
            "\n",
            "Is Scalar(Array1):  True\n",
            "\n",
            "Is Scalar(Array2):  False\n",
            "\n",
            "Sum of the two arrays: \n",
            "[[ 3  3  3]\n",
            " [11  3 11]\n",
            " [ 9  4 10]]\n",
            "\n",
            "Difference of two arrays: \n",
            "[[ 1  1  1]\n",
            " [-7  1 -7]\n",
            " [-5  0 -6]]\n",
            "\n",
            "Product of the two arrays: \n",
            "[[ 2  2  2]\n",
            " [18  2 18]\n",
            " [14  4 16]]\n",
            "\n",
            "Quotient of the two arrays: \n",
            "[[2.         2.         2.        ]\n",
            " [0.22222222 2.         0.22222222]\n",
            " [0.28571429 1.         0.25      ]]\n"
          ],
          "name": "stdout"
        }
      ]
    },
    {
      "cell_type": "code",
      "metadata": {
        "colab": {
          "base_uri": "https://localhost:8080/"
        },
        "id": "Dm7Ji5Tddkzn",
        "outputId": "c1b68952-7aaa-4364-a156-90d53ba9cc7f"
      },
      "source": [
        "mat_operations(G,H)"
      ],
      "execution_count": 42,
      "outputs": [
        {
          "output_type": "stream",
          "text": [
            "Array 1: \n",
            " [[1 1 1]\n",
            " [9 1 9]\n",
            " [7 2 8]]\n",
            "\n",
            "Array 2: \n",
            " [[1 5 1]\n",
            " [1 3 3]\n",
            " [1 5 5]]\n",
            "\n",
            "Is Scalar(Array1):  False\n",
            "\n",
            "Is Scalar(Array2):  False\n",
            "\n",
            "Sum of the two arrays: \n",
            "[[ 2  6  2]\n",
            " [10  4 12]\n",
            " [ 8  7 13]]\n",
            "\n",
            "Difference of two arrays: \n",
            "[[ 0 -4  0]\n",
            " [ 8 -2  6]\n",
            " [ 6 -3  3]]\n",
            "\n",
            "Product of the two arrays: \n",
            "[[ 1  5  1]\n",
            " [ 9  3 27]\n",
            " [ 7 10 40]]\n",
            "\n",
            "Quotient of the two arrays: \n",
            "[[1.         0.2        1.        ]\n",
            " [9.         0.33333333 3.        ]\n",
            " [7.         0.4        1.6       ]]\n"
          ],
          "name": "stdout"
        }
      ]
    },
    {
      "cell_type": "code",
      "metadata": {
        "colab": {
          "base_uri": "https://localhost:8080/"
        },
        "id": "NDOlqRj0doqD",
        "outputId": "f5b17b73-cef6-49d7-af1a-da032f4fbff3"
      },
      "source": [
        "mat_operations(H,I)"
      ],
      "execution_count": 43,
      "outputs": [
        {
          "output_type": "stream",
          "text": [
            "Array 1: \n",
            " [[1 5 1]\n",
            " [1 3 3]\n",
            " [1 5 5]]\n",
            "\n",
            "Array 2: \n",
            " [[9 8 7]\n",
            " [7 5 6]\n",
            " [4 3 2]\n",
            " [2 4 6]]\n",
            "\n",
            "Is Scalar(Array1):  False\n",
            "\n",
            "Is Scalar(Array2):  False\n",
            "\n",
            "Can't perform certain operations, Shapes of array should be equal.\n"
          ],
          "name": "stdout"
        }
      ]
    },
    {
      "cell_type": "code",
      "metadata": {
        "colab": {
          "base_uri": "https://localhost:8080/"
        },
        "id": "w-aBdFGDdwnd",
        "outputId": "3f472831-f729-45d6-c969-00af5cdb47ee"
      },
      "source": [
        "mat_operations(I,J)"
      ],
      "execution_count": 40,
      "outputs": [
        {
          "output_type": "stream",
          "text": [
            "Array 1: \n",
            " [[9 8 7]\n",
            " [7 5 6]\n",
            " [4 3 2]\n",
            " [2 4 6]]\n",
            "\n",
            "Array 2: \n",
            " [[5 6 6]\n",
            " [3 2 1]\n",
            " [4 6 8]]\n",
            "\n",
            "Is Scalar(Array1):  False\n",
            "\n",
            "Is Scalar(Array2):  False\n",
            "\n",
            "Can't perform certain operations, Shapes of array should be equal.\n"
          ],
          "name": "stdout"
        }
      ]
    }
  ]
}